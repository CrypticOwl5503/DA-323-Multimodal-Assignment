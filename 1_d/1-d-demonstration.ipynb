version https://git-lfs.github.com/spec/v1
oid sha256:d731c3648dc0d873d2c6ce5444b8d63bddb415b46e929b9bd365f166ca12b8b0
size 9431
