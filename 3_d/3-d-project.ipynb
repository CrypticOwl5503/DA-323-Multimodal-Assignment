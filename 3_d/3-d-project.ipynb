version https://git-lfs.github.com/spec/v1
oid sha256:c35162910c61c654948075060e1723dd6e4ca8444b389940951b8b789ac9e883
size 169891
